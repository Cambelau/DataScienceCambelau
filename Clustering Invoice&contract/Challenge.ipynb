{
 "cells": [
  {
   "cell_type": "markdown",
   "metadata": {},
   "source": [
    "# Can I find my invoices and contracts?\n",
    "\n",
    "<u>**NB : All data used in this exercise are fictitious data.**</u>\n",
    "\n",
    "## Objective:\n",
    "\n",
    "Each year, the accounting management service is scaning thousands of invoices and contracts. All these pdf scans are stored in a Database, and manually flaged. The accounting service wants to automate the process.\n",
    "\n",
    "*Given a bunch of documents without label are you able to separate invoices from contracts?*\n",
    "\n",
    "As a Data Scientist you offer to implement a machine learning solution. Nonetheless, accounting services bring to your attention:\n",
    " - Formats are constantly evolving therefore, you cannot use past documents to design your solution\n",
    " - They will send you TEXT data after passing pdf into an OCR (noise may happen)\n",
    " \n",
    "## More Technically\n",
    " - **/train** folder contains raw text invoices and contracts (0000.txt to 1999.txt)\n",
    " - **/val** folder contains raw text invoices and contracts (0000.txt to 1999.txt) and *label.csv* to evaluate performances.\n",
    " \n",
    "You are asked to:\n",
    " - Build a machine learning process to seperate invoices from contracts without previous knowledge.\n",
    " - Evaluate the performances on the validation (/val) dataset.\n",
    " \n",
    "*Feel free to import any usual python and ML packages.*"
   ]
  },
  {
   "cell_type": "markdown",
   "metadata": {},
   "source": [
    "# Introduction\n",
    "\n",
    "Ma solution pour le challenge est d'utiliser la méthodologie suivante. D'abord travailler les données des fichiers texte (data mining), puis de structurer les données dans des dataframes en étudiant la fréquence des mots. Enfin, j'utilise un algorithme non supervisés de clusterisation : le K-means.  \n",
    "\n",
    "Pour gagner du temps, j'ai sauvegardé les dataframes les plus longs à calculer dans des fichiers csv, fournis avec ce notebook.\n",
    "Bien qu'ayant réduit les calculs, chaque texte demande à peu près 1 seconde de process. Cumulés le temps de travail peut être de 30 minutes pour chaque dataframe.  \n",
    "\n",
    "Enfin, pour résoudre ce problème, j'ai suivi le sommaire suivant:\n",
    "\n",
    "# Sommaire \n",
    "\n",
    "1. Nettoyer les données \n",
    "    - Récupérer les textes\n",
    "    - Traitement NLP\n",
    "  \n",
    "    \n",
    "2. Structurer les données  \n",
    "    - Récupérer la fréquences des mots avec la méthode de TD-IDF\n",
    "    - Sélection des mots les plus fréquents et suscptibles de reconnaitre le type du document\n",
    "    - Création d'une structure de dataframe \n",
    "  \n",
    "3. Clusteriser les données  \n",
    "    - Vérification du nombre de cluster\n",
    "    - Application du modèle K-Means\n",
    "   \n",
    "4. Application sur le dossier de validation"
   ]
  },
  {
   "cell_type": "markdown",
   "metadata": {},
   "source": [
    "# Source\n",
    "\n",
    "<u>*NLP : *</u> \n",
    "  \n",
    "Traitement Automatique du Langage Naturel en français (TAL / NLP). (2019). Retrieved 28 January 2022, from https://www.stat4decision.com/fr/traitement-langage-naturel-francais-tal-nlp/  \n",
    "  \n",
    "<u>*TD-IDF*</u>  \n",
    "  \n",
    "Vieille, M. (2021). NLP : Natural Language Processing - Lovely Analytics. Retrieved 28 January 2022, from https://www.lovelyanalytics.com/2021/03/19/nlp-natural-language-processing/    \n",
    "  \n",
    "Synthèse extractive de texte à l'aide de spaCy en Python. (2022). Retrieved 28 January 2022, from https://ichi.pro/fr/synthese-extractive-de-texte-a-l-aide-de-spacy-en-python-150270551129495\n",
    "  \n",
    "<u>*Clustering*</u>   \n",
    "  \n",
    "pythondatascientist/06_02_Machine_learning_non_supervise.ipynb at master · pierrelouisIV/pythondatascientist. (2022). Retrieved 28 January 2022, from https://github.com/pierrelouisIV/pythondatascientist/blob/master/notebooks/06_02_Machine_learning_non_supervise.ipynb"
   ]
  },
  {
   "cell_type": "code",
   "execution_count": 38,
   "metadata": {},
   "outputs": [],
   "source": [
    "import pandas as pd\n",
    "import numpy as np\n",
    "import pathlib\n",
    "import random\n",
    "import spacy\n",
    "\n",
    "from pathlib import Path # pour le chemin du fichier\n",
    "from autocorrect import Speller\n",
    "from collections import Counter\n",
    "from nltk.stem.snowball import SnowballStemmer\n",
    "from nltk.corpus import stopwords\n",
    "\n",
    "nlp = spacy.load(\"fr_core_news_sm\")\n",
    "\n",
    "from sklearn.cluster import KMeans\n",
    "import matplotlib.pyplot as plt\n",
    "%matplotlib inline"
   ]
  },
  {
   "cell_type": "markdown",
   "metadata": {},
   "source": [
    "### Charger les fichiers"
   ]
  },
  {
   "cell_type": "code",
   "execution_count": 39,
   "metadata": {},
   "outputs": [],
   "source": [
    "def getTextOfFile(fileName):\n",
    "    '''\n",
    "    Entrée : [string] , nom du fichier\n",
    "    Sortie : [string] , texte du fichier\n",
    "    '''\n",
    "    filePath = 'train/' + fileName\n",
    "    file = Path.cwd() / filePath\n",
    "\n",
    "    # Open the file in \"read\" mode ('r') \n",
    "    with open(file, 'r') as text:\n",
    "        textfile = text.read()\n",
    "    return textfile"
   ]
  },
  {
   "cell_type": "code",
   "execution_count": 40,
   "metadata": {},
   "outputs": [],
   "source": [
    "fileTrainNameList = []\n",
    "\n",
    "for path in pathlib.Path(\"./train\").iterdir():\n",
    "    if path.is_file():\n",
    "        fileTrainNameList.append(path.name)"
   ]
  },
  {
   "cell_type": "markdown",
   "metadata": {},
   "source": [
    "# Extraire et nettoyer les données  \n",
    "## Récupérer un fichier, miner les mots (Natural Language Processing)\n",
    "\n",
    "- Tokeniser le texte \n",
    "- Nettoyer le texte (retirer mots courants, ponctuations, mot de plus de 3 caractères)\n",
    "- Récupérer la racine des mots restants (stemming)"
   ]
  },
  {
   "cell_type": "markdown",
   "metadata": {},
   "source": [
    "### Fonction pour Tokeniser le texte"
   ]
  },
  {
   "cell_type": "code",
   "execution_count": 41,
   "metadata": {},
   "outputs": [],
   "source": [
    "def return_token(sentence):\n",
    "    doc = nlp(sentence)\n",
    "    \n",
    "    return [X.text for X in doc]"
   ]
  },
  {
   "cell_type": "markdown",
   "metadata": {},
   "source": [
    "### Fonction pour nettoyer le texte\n"
   ]
  },
  {
   "cell_type": "code",
   "execution_count": 42,
   "metadata": {},
   "outputs": [],
   "source": [
    "def getCleanText(text):\n",
    "    stopChar = [\"\\n\",\"©\",\"Ã\",\"*\",\":\",\"\\n\\n\",\":\",\",\",\".\",\";\",\"(\",\")\",\"l'\",'\"',\"d'\",'a',\"rã\",\"sit\",\" \"]\n",
    "    stopWords = set(stopwords.words('french'))\n",
    "    clean_words = []\n",
    "    spell = Speller(lang='fr')\n",
    "    \n",
    "    for token in text:\n",
    "        if token not in stopWords :\n",
    "            # if token not in stopChar and token not in punctuation and len(token)>3:\n",
    "            if len(token)>3:\n",
    "                # token = spell(token)\n",
    "                clean_words.append(token)\n",
    "    return clean_words"
   ]
  },
  {
   "cell_type": "markdown",
   "metadata": {},
   "source": [
    "### Fonction pour récupérer la racine des mots "
   ]
  },
  {
   "cell_type": "code",
   "execution_count": 43,
   "metadata": {},
   "outputs": [],
   "source": [
    "stemmer = SnowballStemmer(language='french')\n",
    "\n",
    "def getStemWord(text):\n",
    "    #retourner les mots en stemming\n",
    "    #retourne juste la racine des mots\n",
    "    stemWord = []\n",
    "    \n",
    "    for token in text:\n",
    "        stemWord.append( stemmer.stem(token))\n",
    "        \n",
    "    return stemWord"
   ]
  },
  {
   "cell_type": "markdown",
   "metadata": {},
   "source": [
    "### Fonction finale de preprocess NLP : "
   ]
  },
  {
   "cell_type": "code",
   "execution_count": 44,
   "metadata": {},
   "outputs": [],
   "source": [
    "def getTextFinal(fileName):\n",
    "   \n",
    "    textbrut = getTextOfFile(fileName)\n",
    "    textToken = return_token(textbrut)\n",
    "    cleanText = getCleanText(textToken)\n",
    "    stemText = getStemWord(cleanText)    \n",
    "    return stemText"
   ]
  },
  {
   "cell_type": "markdown",
   "metadata": {},
   "source": [
    "## Récupérer des récurences de mots\n",
    "\n",
    "On utilise la pondération tf-idf des mots dans le texte.    \n",
    "Le **TD-IDF** (TF (Term Frequency) et IDF (Inverse Document Frequency)) est une méthode de pondération souvent utilisée en recherche d'information et en particulier dans la fouille de textes.  \n",
    "  \n",
    "Cette mesure statistique permet d'évaluer l'importance d'un terme contenu dans un document.  \n",
    "\n",
    "Dans notre cas, on recherche dans chaque texte la fréquence de chaque mots. Le poids du mot augmente proportionnellement au nombre d'occurrences du mot dans le document.  \n",
    "  \n",
    "On ne retient que les mots dont le poids est supérieur à 0.076923.(valeur arbitraire)"
   ]
  },
  {
   "cell_type": "code",
   "execution_count": 45,
   "metadata": {},
   "outputs": [],
   "source": [
    "def getFreqWord(text):\n",
    "   \n",
    "    freq_word = Counter(text)  #frequence des mots\n",
    " \n",
    "    max_freq = Counter(text).most_common(1)[0][1]   #frequence max \n",
    "   \n",
    "    freqText = Counter() #variable de retour\n",
    "    \n",
    "    #pour chaque mot trouver son poids id-idf(si supérieur on le garde)\n",
    "    for w in freq_word:\n",
    "        if (freq_word[w]/max_freq) >= 0.076923:\n",
    "            freqText[w] = (freq_word[w]/max_freq)\n",
    "    return freqText"
   ]
  },
  {
   "cell_type": "markdown",
   "metadata": {},
   "source": [
    "# Structurer les données     \n",
    "\n",
    "- On ajoute le poids de tout les mots les plus fréquents dans les textes"
   ]
  },
  {
   "cell_type": "code",
   "execution_count": 46,
   "metadata": {},
   "outputs": [],
   "source": [
    "def addFreqDoc(df,text):\n",
    "    freqText = getFreqWord(text)\n",
    "\n",
    "    for word in freqText:\n",
    "        if word  in freqText.keys():\n",
    "            if word not in list(df['word']):\n",
    "                df = df.append({'word': word,'freq':freqText[word]}, ignore_index=True)\n",
    "            else:\n",
    "                df.loc[df.word==word,'freq'] +=   freqText[word]   \n",
    "    return df"
   ]
  },
  {
   "cell_type": "markdown",
   "metadata": {},
   "source": [
    "## Création d'un dataframe des mots les plus courants\n",
    "     \n",
    "df_freq est un dataframe avec le mot et la fréquence générale du mot dans les textes  "
   ]
  },
  {
   "cell_type": "code",
   "execution_count": 47,
   "metadata": {},
   "outputs": [],
   "source": [
    "# 35 minutes pour 2000 fichiers, les valeurs peuvent etre trouvé dans \"freq_word.csv\" \n",
    "def getDataframeFrequenceGlobale(fileNameList):\n",
    "    df_freq = pd.DataFrame(columns=['word', 'freq'])\n",
    "    for i in range(len(fileNameList)):\n",
    "       \n",
    "        text = getTextFinal(fileNameList[i]) # extraire le texte du fichier\n",
    "        df_freq = addFreqDoc(df_freq,text)  # ajouter au df la fréquence des mots du fichier courant\n",
    "        \n",
    "    return df_freq\n",
    "\n",
    "# méthode plus rapide : séléctionner des fichiers au hasard et réduire la taille de la boucle \n",
    "def getDataframeFrequenceGlobaleRandom(fileNameList):\n",
    "\n",
    "    df_freq = pd.DataFrame(columns=['word', 'freq'])\n",
    "    for i in range(300):\n",
    "        # sélectionner un fichier au hasard\n",
    "        docRandom = random.randint(0,1999)\n",
    "        \n",
    "        text = getTextFinal(fileNameList[docRandom]) # extraire le texte du fichier\n",
    "        df_freq = addFreqDoc(df_freq,text)  # ajouter au df la fréquence des mots du fichier courant\n",
    "    \n",
    "    return df_freq\n"
   ]
  },
  {
   "cell_type": "markdown",
   "metadata": {},
   "source": [
    "### 3 possibilités pour récupérer les fréquences globales:\n",
    "- Utiliser *getDataframeFrequenceGlobale* pour avoir celle de tout les fichiers\n",
    "- Utiliser *getDataframeFrequenceGlobaleRandom* et choisir le nombre de fichiers choisi aléatoirement\n",
    "- Utiliser un csv déjà prêt (enregistré à partir de la méthode 1)"
   ]
  },
  {
   "cell_type": "code",
   "execution_count": 48,
   "metadata": {},
   "outputs": [],
   "source": [
    "# df_freq_train = getDataframeFrequenceGlobale(fileTrainNameList)\n",
    "\n",
    "# df_freq_train = getDataframeFrequenceGlobaleRandom(fileTrainNameList)\n",
    "\n",
    "df_freq_train = pd.read_csv(\"freq_word.csv\")  "
   ]
  },
  {
   "cell_type": "markdown",
   "metadata": {},
   "source": [
    "### Data cleaning des fréquences"
   ]
  },
  {
   "cell_type": "code",
   "execution_count": 49,
   "metadata": {},
   "outputs": [],
   "source": [
    "#Trier par ordre croissant les valeurs de fréquence\n",
    "df_freq_train = df_freq_train.sort_values(by='freq',ascending=False)\n",
    "#On retire les 15 premiers qui sont trop en communs entre les deux types\n",
    "df_freq_train = df_freq_train.drop([0, 15]) \n",
    "#On récupère les 50 premières\n",
    "df_freq_train = df_freq_train.head(50)\n",
    "#Les mots les plus fréquents sont les colonnes du df de notre modèle\n",
    "nameColumn = df_freq_train.head(50)['word']"
   ]
  },
  {
   "cell_type": "markdown",
   "metadata": {},
   "source": [
    "### Création d'un dataframe du dossier train  \n",
    "\n",
    "\n",
    "     \n",
    "Le dataframe du dossier du train a pour:  \n",
    "-   colonne : les mots les plus fréquents trouvés par le dataframe de fréquence\n",
    "-   ligne  : chaque texte et ses fréquences sur les mots sélectionés"
   ]
  },
  {
   "cell_type": "code",
   "execution_count": 50,
   "metadata": {},
   "outputs": [],
   "source": [
    "#créationn du dataframe du modèle, l'index est le nom des fichiers\n",
    "df_train = pd.DataFrame(columns=nameColumn)\n",
    "#Ajout du nom des fichier\n",
    "df_train[\"file\"] = fileTrainNameList"
   ]
  },
  {
   "cell_type": "markdown",
   "metadata": {},
   "source": [
    "### Remplir le dataframe du dossier train"
   ]
  },
  {
   "cell_type": "code",
   "execution_count": 51,
   "metadata": {},
   "outputs": [],
   "source": [
    "# 33minutes pour 2000 fichiers\n",
    "def fillDataframe(df):\n",
    "    for i in range(len(df.index)):\n",
    "        print(df['file'].iloc[i])\n",
    "        file = df['file'].iloc[i]\n",
    "        text = getTextFinal(file) # extraire le texte du fichier\n",
    "        freq = getFreqWord(text)\n",
    "        for column in df.columns:\n",
    "            for word in freq:\n",
    "                if column == word:\n",
    "                    df[word].iloc[i]= freq[word]\n",
    "    # Remplacer les valeurs nan en 0                \n",
    "    df = df.fillna(0)\n",
    "    \n",
    "    # Faculatif déplacer la colonne file à gauche\n",
    "    # df.insert(0, \"file\", df.pop(\"file\")) \n",
    "    return df"
   ]
  },
  {
   "cell_type": "markdown",
   "metadata": {},
   "source": [
    "2 méthodes : \n",
    "- Utiliser la fonction *fillDataframe* pour remplir le dataframe de train\n",
    "- Utiliser le csv *dataset_train_final* déjà rempli avec la méthode 1"
   ]
  },
  {
   "cell_type": "code",
   "execution_count": 52,
   "metadata": {},
   "outputs": [],
   "source": [
    "# df_train = fillDataframe(df_train)\n",
    "\n",
    "df_train = pd.read_csv(\"dataset_train_final.csv\")  \n",
    "df_train =df_train.drop('Unnamed: 0',axis=1)"
   ]
  },
  {
   "cell_type": "markdown",
   "metadata": {},
   "source": [
    "# Clusteriser les données \n",
    "  \n",
    "Les k-means (k-moyennes) sont  un algorithme d’apprentissage non supervisé permettant de construire des classes d’observations à partir d’un jeu de données de grande dimension.   \n",
    "  \n",
    "Étant donnés des points et un entier k, le problème est de diviser les points en k groupes, souvent appelés clusters, de façon à minimiser une certaine fonction.\n",
    "\n",
    "## Trouver le nombre de cluster"
   ]
  },
  {
   "cell_type": "markdown",
   "metadata": {},
   "source": [
    "L'inertie représente la somme des carrés des distances des échantillons à leur centre de cluster le plus proche, pondérée par les poids des échantillons s'ils sont fournis.\n",
    "\n",
    "En calculant l'inertie avec chaque k entre 2 et 9, on peut trouver quel k correspond le plus à notre problème."
   ]
  },
  {
   "cell_type": "code",
   "execution_count": 53,
   "metadata": {},
   "outputs": [],
   "source": [
    "def clusteringData(df):\n",
    "    x=df.select_dtypes(np.number)\n",
    "\n",
    "    # on crée une liste dans laquelle on stocke les inerties\n",
    "    inerties=[]\n",
    "    # on fait une boucle de 2 à 9 pour tester toutes ces possibiliéts\n",
    "    for k in range(2, 10):\n",
    "        # pour chaque k, on crée un modèle et on l’ajuste\n",
    "        kmeans=KMeans(n_clusters=k)\n",
    "        kmeans.fit(x)\n",
    "        # on stocke l’inertie associée\n",
    "        inerties.append(kmeans.inertia_)\n",
    "        \n",
    "    # on représente le graphique\n",
    "    fig=plt.figure(figsize=(10, 5))\n",
    "    plt.plot(range(2, 10), inerties)\n",
    "    plt.xlabel(\"Nombre de clusters\")\n",
    "    plt.ylabel(\"Inertie\")\n",
    "    plt.title('Inertie vs nombre de classes')"
   ]
  },
  {
   "cell_type": "code",
   "execution_count": 54,
   "metadata": {},
   "outputs": [
    {
     "data": {
      "image/png": "[encoded data removed]",
      "text/plain": [
       "<Figure size 720x360 with 1 Axes>"
      ]
     },
     "metadata": {
      "needs_background": "light"
     },
     "output_type": "display_data"
    }
   ],
   "source": [
    "clusteringData(df_train)"
   ]
  },
  {
   "cell_type": "markdown",
   "metadata": {},
   "source": [
    "On remarque que le nombre de cluster idéal est 2.  \n",
    "Cela correspond avec l'exercice qui cherche à distinguer contrats et factures.  \n"
   ]
  },
  {
   "cell_type": "markdown",
   "metadata": {},
   "source": [
    "## Application du modèle\n",
    "\n",
    "  \n",
    "On applique le modèle avec 2 clusters.\n",
    "   \n",
    "*getClasses retourne un array avec le numero du cluster "
   ]
  },
  {
   "cell_type": "code",
   "execution_count": 55,
   "metadata": {},
   "outputs": [],
   "source": [
    "def getClasses(df):\n",
    "    x=df.select_dtypes(np.number)\n",
    "    modele_km=KMeans(n_clusters=2)\n",
    "    modele_km.fit(x)\n",
    "    # on stocke les classes d’appartenance dans classes\n",
    "    classes=modele_km.labels_\n",
    "    return classes"
   ]
  },
  {
   "cell_type": "markdown",
   "metadata": {},
   "source": [
    "Pour interpreter les résultatss, on assoscie dans un nouveau dataframe, le fichier texte et son type."
   ]
  },
  {
   "cell_type": "code",
   "execution_count": 56,
   "metadata": {},
   "outputs": [],
   "source": [
    "classes = getClasses(df_train)\n",
    "\n",
    "df_resulat_train = pd.DataFrame()\n",
    "df_resulat_train[\"file\"] = fileTrainNameList\n",
    "df_resulat_train[\"classe\"] = classes\n",
    "df_resulat_train[\"classe\"] = df_resulat_train[\"classe\"].replace(0,\"Contrat\")\n",
    "df_resulat_train[\"classe\"] = df_resulat_train[\"classe\"].replace(1,\"Facture\")"
   ]
  },
  {
   "cell_type": "markdown",
   "metadata": {},
   "source": [
    "## Résultat du modèle pour le dossier train"
   ]
  },
  {
   "cell_type": "code",
   "execution_count": 57,
   "metadata": {},
   "outputs": [
    {
     "data": {
      "image/png": "[encoded data removed]",
      "text/plain": [
       "<Figure size 432x288 with 1 Axes>"
      ]
     },
     "metadata": {
      "needs_background": "light"
     },
     "output_type": "display_data"
    }
   ],
   "source": [
    "df_resulat_train['classe'].value_counts().plot(kind='bar');"
   ]
  },
  {
   "cell_type": "markdown",
   "metadata": {},
   "source": [
    "# Application sur le dossier val\n",
    "\n",
    "    \n",
    "Nous utilisons les mêmes colonnes que pour le dossier train. Les mots fréquents seront donc les mêmes.  \n"
   ]
  },
  {
   "cell_type": "markdown",
   "metadata": {},
   "source": [
    "## Récupérer le nom des fichiers texte et créer un dataframe de validation"
   ]
  },
  {
   "cell_type": "code",
   "execution_count": 58,
   "metadata": {},
   "outputs": [],
   "source": [
    "fileValNameList = []\n",
    "\n",
    "for path in pathlib.Path(\"./val\").iterdir():\n",
    "    if path.is_file():\n",
    "        fileValNameList.append(path.name)\n",
    "        \n",
    "df_val = pd.DataFrame(columns=nameColumn)\n",
    "df_val[\"file\"] = fileTrainNameList"
   ]
  },
  {
   "cell_type": "markdown",
   "metadata": {},
   "source": [
    "2 solutions pour remplir le dataframe de validation : \n",
    "- Utiliser la fonction *fillDataFrame* (environ 30 minutes, 1sec/fichier)\n",
    "- Charger le csv déjà rempli avec la méthode 1"
   ]
  },
  {
   "cell_type": "code",
   "execution_count": 59,
   "metadata": {},
   "outputs": [],
   "source": [
    "# df_val = fillDataframe(df_val)\n",
    "\n",
    "df_val = pd.read_csv(\"dataset_val_final.csv\")\n",
    "# df_val = df_val.drop([0, 15],axis=1)  "
   ]
  },
  {
   "cell_type": "markdown",
   "metadata": {},
   "source": [
    "## Clusteriser les données de validation\n",
    "\n",
    "Utilisation du modèle de clustering K-means pour déterminer le label du fichier"
   ]
  },
  {
   "cell_type": "code",
   "execution_count": 60,
   "metadata": {},
   "outputs": [
    {
     "data": {
      "image/png": "[encoded data removed]",
      "text/plain": [
       "<Figure size 432x288 with 1 Axes>"
      ]
     },
     "metadata": {
      "needs_background": "light"
     },
     "output_type": "display_data"
    }
   ],
   "source": [
    "classes = getClasses(df_val)\n",
    "\n",
    "df_resulat_val = pd.DataFrame()\n",
    "df_resulat_val[\"file\"] = fileTrainNameList\n",
    "df_resulat_val[\"classe\"] = classes\n",
    "df_resulat_val[\"classe\"] = df_resulat_val[\"classe\"].replace(0,\"Contrat\")\n",
    "df_resulat_val[\"classe\"] = df_resulat_val[\"classe\"].replace(1,\"Facture\")\n",
    "\n",
    "df_resulat_val.head()\n",
    "df_resulat_val['classe'].value_counts().plot(kind='bar');"
   ]
  },
  {
   "cell_type": "markdown",
   "metadata": {},
   "source": [
    "Toujours 2 clusters égaux, c'est bon signe.\n",
    "\n",
    "## Comparaison des résulats avec la solution fournie\n",
    "\n",
    "On charge les données de validation dans un dataframe que l'on concatène avec nos résultats"
   ]
  },
  {
   "cell_type": "code",
   "execution_count": 61,
   "metadata": {},
   "outputs": [],
   "source": [
    "df_verification_val = pd.read_csv(\"label.csv\")\n",
    "df_verification_val = pd.concat([df_verification_val, df_resulat_val], axis = 1)"
   ]
  },
  {
   "cell_type": "markdown",
   "metadata": {},
   "source": [
    "### Fonction de vérifation"
   ]
  },
  {
   "cell_type": "code",
   "execution_count": 62,
   "metadata": {},
   "outputs": [],
   "source": [
    "def checkResult(df):\n",
    "    error = 0\n",
    "    #incrémenter l'erreur si le fichier n'est pas bien reconnu\n",
    "    for i in range(len(df.index)):\n",
    "        if df['label'].iloc[i] !=df['classe'].iloc[i]:\n",
    "            error+=1\n",
    "    return error * 100 / len(df.index) #retourne un pourcentage"
   ]
  },
  {
   "cell_type": "markdown",
   "metadata": {},
   "source": [
    "### Résultat de la modélisation"
   ]
  },
  {
   "cell_type": "code",
   "execution_count": 63,
   "metadata": {},
   "outputs": [
    {
     "name": "stdout",
     "output_type": "stream",
     "text": [
      "Le résulat est de :  100.0 %\n"
     ]
    }
   ],
   "source": [
    "result= checkResult(df_verification_val)\n",
    "print(\"Le résulat est de : \",result,\"%\")"
   ]
  }
 ],
 "metadata": {
  "kernelspec": {
   "display_name": "Python 3.10.6 64-bit (windows store)",
   "language": "python",
   "name": "python3"
  },
  "language_info": {
   "codemirror_mode": {
    "name": "ipython",
    "version": 3
   },
   "file_extension": ".py",
   "mimetype": "text/x-python",
   "name": "python",
   "nbconvert_exporter": "python",
   "pygments_lexer": "ipython3",
   "version": "3.10.6"
  },
  "vscode": {
   "interpreter": {
    "hash": "1d208fc92f63bff2dd80c97ffe5a57d134e87b05d2dbf0af794face5bab8487c"
   }
  }
 },
 "nbformat": 4,
 "nbformat_minor": 2
}
